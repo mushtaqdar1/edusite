{
 "cells": [
  {
   "cell_type": "code",
   "execution_count": 2,
   "id": "b6e34171",
   "metadata": {},
   "outputs": [
    {
     "name": "stdout",
     "output_type": "stream",
     "text": [
      "3.4\n"
     ]
    }
   ],
   "source": [
    "a=1.9\n",
    "b=1.5\n",
    "c=a+b\n",
    "print(c)"
   ]
  },
  {
   "cell_type": "code",
   "execution_count": 5,
   "id": "a682ac37",
   "metadata": {},
   "outputs": [
    {
     "name": "stdout",
     "output_type": "stream",
     "text": [
      "['abcd', 147, 2.43, 'Ahmed', 76.3]\n"
     ]
    }
   ],
   "source": [
    "first_list=['abcd',147,2.43,'Ahmed',76.3]\n",
    "small_list=[11,'hasan']\n",
    "print(first_list)"
   ]
  },
  {
   "cell_type": "code",
   "execution_count": 6,
   "id": "41538214",
   "metadata": {},
   "outputs": [
    {
     "name": "stdout",
     "output_type": "stream",
     "text": [
      "abcd\n"
     ]
    }
   ],
   "source": [
    "print(first_list[0])\n"
   ]
  },
  {
   "cell_type": "code",
   "execution_count": 6,
   "id": "3299407d",
   "metadata": {},
   "outputs": [
    {
     "name": "stdout",
     "output_type": "stream",
     "text": [
      "[147, 2.43]\n"
     ]
    }
   ],
   "source": [
    "print(first_list[1:3])"
   ]
  },
  {
   "cell_type": "code",
   "execution_count": 6,
   "id": "0064896b",
   "metadata": {},
   "outputs": [
    {
     "name": "stdout",
     "output_type": "stream",
     "text": [
      "Password Accepted!\n"
     ]
    }
   ],
   "source": [
    "password = input(\"Enter the password : \")\n",
    "if password == 'PYTHON':\n",
    "    print(\"Password Accepted!\")\n",
    "else:\n",
    "    print(\"Incorrect password, please try again.\")"
   ]
  },
  {
   "cell_type": "code",
   "execution_count": 1,
   "id": "8e5ca1d9",
   "metadata": {},
   "outputs": [],
   "source": [
    "list_1=[100,'abc',300,788]"
   ]
  },
  {
   "cell_type": "code",
   "execution_count": 2,
   "id": "8fb8150a",
   "metadata": {},
   "outputs": [
    {
     "data": {
      "text/plain": [
       "788"
      ]
     },
     "execution_count": 2,
     "metadata": {},
     "output_type": "execute_result"
    }
   ],
   "source": [
    "list_1.pop(-1)"
   ]
  },
  {
   "cell_type": "code",
   "execution_count": 3,
   "id": "d3183555",
   "metadata": {},
   "outputs": [
    {
     "name": "stdout",
     "output_type": "stream",
     "text": [
      "[100, 'abc', 300]\n"
     ]
    }
   ],
   "source": [
    "print(list_1)"
   ]
  },
  {
   "cell_type": "code",
   "execution_count": 4,
   "id": "bf6dac67",
   "metadata": {},
   "outputs": [],
   "source": [
    "list_1.clear()"
   ]
  },
  {
   "cell_type": "code",
   "execution_count": 9,
   "id": "1b5af2d5",
   "metadata": {},
   "outputs": [
    {
     "name": "stdout",
     "output_type": "stream",
     "text": [
      "the elements after clearing: [8, 'heap']\n"
     ]
    }
   ],
   "source": [
    "print(\"the elements after clearing:\",list_1)"
   ]
  },
  {
   "cell_type": "code",
   "execution_count": 3,
   "id": "c88f4ab2",
   "metadata": {},
   "outputs": [],
   "source": [
    "list0=[8,'heap']"
   ]
  },
  {
   "cell_type": "code",
   "execution_count": 7,
   "id": "3b8eef92",
   "metadata": {},
   "outputs": [
    {
     "name": "stdout",
     "output_type": "stream",
     "text": [
      "[8, 'heap']\n"
     ]
    }
   ],
   "source": [
    "print(list0)"
   ]
  },
  {
   "cell_type": "code",
   "execution_count": 8,
   "id": "26608732",
   "metadata": {},
   "outputs": [],
   "source": [
    "list_1.extend(list0)"
   ]
  },
  {
   "cell_type": "code",
   "execution_count": 4,
   "id": "3c7587c8",
   "metadata": {},
   "outputs": [
    {
     "ename": "NameError",
     "evalue": "name 'list_0' is not defined",
     "output_type": "error",
     "traceback": [
      "\u001b[1;31m---------------------------------------------------------------------------\u001b[0m",
      "\u001b[1;31mNameError\u001b[0m                                 Traceback (most recent call last)",
      "Cell \u001b[1;32mIn[4], line 1\u001b[0m\n\u001b[1;32m----> 1\u001b[0m \u001b[38;5;28mprint\u001b[39m(\u001b[43mlist_0\u001b[49m)\n",
      "\u001b[1;31mNameError\u001b[0m: name 'list_0' is not defined"
     ]
    }
   ],
   "source": [
    "print(list_0)"
   ]
  }
 ],
 "metadata": {
  "kernelspec": {
   "display_name": "Python 3",
   "language": "python",
   "name": "python3"
  },
  "language_info": {
   "codemirror_mode": {
    "name": "ipython",
    "version": 3
   },
   "file_extension": ".py",
   "mimetype": "text/x-python",
   "name": "python",
   "nbconvert_exporter": "python",
   "pygments_lexer": "ipython3",
   "version": "3.11.9"
  }
 },
 "nbformat": 4,
 "nbformat_minor": 5
}
